{
 "cells": [
  {
   "cell_type": "markdown",
   "id": "c12a51e1-9588-4efb-9691-bb5a1c626ea4",
   "metadata": {},
   "source": [
    "Elasto Plastic Tutorial!"
   ]
  },
  {
   "cell_type": "markdown",
   "id": "bcc2f7b3-9f86-4d69-bc78-5a4bad29f041",
   "metadata": {},
   "source": [
    "The first example runs the example used in class as an Isotropic Hardening materials. This example was used to test that the code is running properly by comparing it to the class example"
   ]
  },
  {
   "cell_type": "code",
   "execution_count": null,
   "id": "7bd45f5d-8006-45ab-a669-f3fef59dc117",
   "metadata": {},
   "outputs": [],
   "source": [
    "import numpy as np\n",
    "import matplotlib.pyplot as plt\n",
    "from Scripts import Newton_and_ElastoPlastic as nm\n",
    "\n",
    "nm.strain_max_to_min = [.06,-.06,.07,-.03]\n",
    "My_mat = nm.Isotropic_Material(0,0,1000,100,10)\n",
    "nm.run_Iso_Hardening(My_mat, My_mat.mat_properties,nm.create_strain_vector(strain_max_to_min))"
   ]
  },
  {
   "cell_type": "markdown",
   "id": "00fc6a30-3a7e-497d-ade0-341a175e8994",
   "metadata": {},
   "source": [
    "The second example runs the code from class as a Kinematic Hardening material. Similarly, this was used to test that the function is working properly"
   ]
  },
  {
   "cell_type": "code",
   "execution_count": null,
   "id": "f0d9e75c-8973-44df-a963-9fe28ba953db",
   "metadata": {},
   "outputs": [],
   "source": [
    "nm.strain_max_to_min = [.06,-.06,.07,-.03]\n",
    "My_mat = nm.Kinematic_Material(0,0,0,1000,100,10)\n",
    "nm.run_Kinematic_Hardening(My_mat, My_mat.mat_properties, nm.create_strain_vector(strain_max_to_min))"
   ]
  },
  {
   "cell_type": "markdown",
   "id": "f54d8117-03e6-443b-baf5-eb8d9b96a664",
   "metadata": {},
   "source": [
    "The next example will be a real world material of Mild Steel AISI 1008 which behaves more like an isotropic hardening materials. \n",
    "Mild Steel of this variety should have the following characteristics:\n",
    "Elastic Modulus: 200 Gpa\n",
    "Plastic Modulus: 50 Gpa (estimated basd on charts)\n",
    "Yield Strength: 285 Mpa"
   ]
  },
  {
   "cell_type": "code",
   "execution_count": null,
   "id": "3c4ec6a3-8ffe-4ec3-8093-8abc7b58dcd7",
   "metadata": {},
   "outputs": [],
   "source": [
    "nm.strain_max_to_min = [.06,-.06,.07,-.03]\n",
    "My_mat = nm.Isotropic_Material(0,0,200000,50000,285)\n",
    "nm.run_Iso_Hardening(My_mat, My_mat.mat_properties,nm.create_strain_vector(strain_max_to_min))"
   ]
  },
  {
   "cell_type": "markdown",
   "id": "3ad84a2d-9ce7-40c4-a5db-2d2546e0c535",
   "metadata": {},
   "source": [
    "The next example will be a real world material of Aluminum 6061 T6 used as sheet metal which behaves more like an Kinematic hardening material. \n",
    "Aluminum of this variety should have the following characteristics:\n",
    "Elastic Modulus: 69 Gpa\n",
    "Plastic Modulus: 7 Gpa (estimated based on charts)\n",
    "Yield Strength: 276 Mpa"
   ]
  },
  {
   "cell_type": "code",
   "execution_count": null,
   "id": "81150819-0b25-4c76-80c3-b6266579cc07",
   "metadata": {},
   "outputs": [],
   "source": [
    "nm.strain_max_to_min = [.06,-.06,.07,-.03]\n",
    "My_mat = nm.Kinematic_Material(0,0,0,69000,7000,276)\n",
    "nm.run_Kinematic_Hardening(My_mat, My_mat.mat_properties,nm.create_strain_vector(strain_max_to_min))"
   ]
  },
  {
   "cell_type": "markdown",
   "id": "c52b9c25-13fe-45c4-b958-6a78e06a35b4",
   "metadata": {},
   "source": [
    "The last example will be a real world material of Titanium which behaves more like an Isotropic hardening material. \n",
    "Titanium (grade 1) should have the following characteristics:\n",
    "Elastic Modulus: 120 Gpa\n",
    "Plastic Modulus: 12 Gpa (estimated based on charts)\n",
    "Yield Strength: 240 Mpa"
   ]
  },
  {
   "cell_type": "code",
   "execution_count": null,
   "id": "de60365a-e5b0-4b91-89b2-0ff533daae23",
   "metadata": {},
   "outputs": [],
   "source": [
    "nm.strain_max_to_min = [.06,-.06,.07,-.03]\n",
    "My_mat = nm.Isotropic_Material(0,0,120000,12000,240)\n",
    "nm.run_Iso_Hardening(My_mat, My_mat.mat_properties, nm.create_strain_vector(strain_max_to_min))"
   ]
  }
 ],
 "metadata": {
  "kernelspec": {
   "display_name": "Python 3 (ipykernel)",
   "language": "python",
   "name": "python3"
  },
  "language_info": {
   "codemirror_mode": {
    "name": "ipython",
    "version": 3
   },
   "file_extension": ".py",
   "mimetype": "text/x-python",
   "name": "python",
   "nbconvert_exporter": "python",
   "pygments_lexer": "ipython3",
   "version": "3.9.13"
  }
 },
 "nbformat": 4,
 "nbformat_minor": 5
}
