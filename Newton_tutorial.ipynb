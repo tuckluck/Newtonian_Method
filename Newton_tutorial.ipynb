{
 "cells": [
  {
   "cell_type": "markdown",
   "id": "3bdacea3-1a56-4938-89b7-8972d65a295c",
   "metadata": {},
   "source": [
    "Welcome to the tutorial! "
   ]
  },
  {
   "cell_type": "code",
   "execution_count": null,
   "id": "f7940e4a-f45d-499c-ad73-867ce08b73ed",
   "metadata": {},
   "outputs": [],
   "source": [
    "from NewtonMethod import Newton_Method as nm\n",
    "import numpy as np\n",
    "import sympy as sp\n",
    "\n",
    "q,w,e,r,t,y,u,i,o,p,a,s,d,f,g,h,j,k,l,z,x,c,v,b,n,m = sp.symbols('q w e r t y u i o p a s d f g h j k l z x c v b n m')\n",
    "symb_matrix = sp.Matrix([q,w,e,r,t,y,u,i,o,p,a,s,d,f,g,h,j,k,l,z,x,c,v,b,n,m])\n"
   ]
  },
  {
   "cell_type": "markdown",
   "id": "4180b4fe-5227-4c2b-a0e1-40dfd658df39",
   "metadata": {},
   "source": [
    "The first example example includes a system of equations with each function representing a plane in three dimensional space. The solver correctly finds the values of intersection"
   ]
  },
  {
   "cell_type": "code",
   "execution_count": null,
   "id": "6e051456-4bd5-4287-9cfe-358664622e13",
   "metadata": {},
   "outputs": [],
   "source": [
    "nm.Newtonian_multi_DOF([3*x+2*y-z-1,2*x-2*y+4*z+2,-x+.5*y-z],[x,y,z],[-150,2,10])"
   ]
  },
  {
   "cell_type": "markdown",
   "id": "c754cfc6-9793-4860-8a50-4952f3f6aedf",
   "metadata": {},
   "source": [
    "The second example is a simple single linear equation and single unknown variable. I have included this example to show the ability of this function to handle single equations and systems of equations. "
   ]
  },
  {
   "cell_type": "code",
   "execution_count": null,
   "id": "23e8c3a4-98b4-4352-9d0d-f2fec134e7d8",
   "metadata": {},
   "outputs": [],
   "source": [
    "nm.Newtonian_multi_DOF([3*x+1],[x],[-5])"
   ]
  },
  {
   "cell_type": "markdown",
   "id": "4d17be08-81a9-4bd3-8586-8037e3315adb",
   "metadata": {},
   "source": [
    "The next example includes a system of equations with two answers. The function correctly finds the solution closer to the guess"
   ]
  },
  {
   "cell_type": "code",
   "execution_count": null,
   "id": "7b895ebe-02e9-442d-8dc3-1b7f2d90ce0f",
   "metadata": {},
   "outputs": [],
   "source": [
    "nm.Newtonian_multi_DOF([x**2+y,x-y**2],[x,y],[4,-4])"
   ]
  },
  {
   "cell_type": "markdown",
   "id": "e88acc8a-e007-4e5e-a40f-1a9b91c8b439",
   "metadata": {},
   "source": [
    "In the next example, and the first mechanics example. We will explore a beam of length (L) with a pin connection at one end. A force of 12 newtons in the negative y direciton is exherted at the non-pin end of the beam. An unknown force is applied at the middle of the beam in the positive y direction to cause the beam to remain static. Summing the moments about the pin connection give the forumla 0 = x(L/2)-12*L. We will use 1 as our L value for the bisect_warmup function. "
   ]
  },
  {
   "cell_type": "code",
   "execution_count": null,
   "id": "dc7de046-d134-4bc1-b91d-925939e59092",
   "metadata": {},
   "outputs": [],
   "source": [
    "nm.Newtonian_multi_DOF([x*(1/2)-12*1],[x],[2])"
   ]
  },
  {
   "cell_type": "markdown",
   "id": "5c178855-decf-4bc2-b4e4-7e6653628b40",
   "metadata": {},
   "source": [
    "The last example examines a sign post with a strong breeze coming in at a 30 degree angle from the horizon. We want to know the reaction force in the x direction and y direction which can be modeled with this system of equations. "
   ]
  },
  {
   "cell_type": "code",
   "execution_count": null,
   "id": "d49c713a-36ad-4e1a-9b4c-6c6cd6007c14",
   "metadata": {},
   "outputs": [],
   "source": [
    "nm.Newtonian_multi_DOF([x-10*np.cos(np.pi/6),y-10*np.sin(np.pi/6)],[x,y],[2,1])"
   ]
  }
 ],
 "metadata": {
  "kernelspec": {
   "display_name": "Python 3 (ipykernel)",
   "language": "python",
   "name": "python3"
  },
  "language_info": {
   "codemirror_mode": {
    "name": "ipython",
    "version": 3
   },
   "file_extension": ".py",
   "mimetype": "text/x-python",
   "name": "python",
   "nbconvert_exporter": "python",
   "pygments_lexer": "ipython3",
   "version": "3.9.13"
  }
 },
 "nbformat": 4,
 "nbformat_minor": 5
}
